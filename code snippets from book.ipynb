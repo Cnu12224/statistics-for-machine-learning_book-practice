{
 "cells": [
  {
   "cell_type": "code",
   "execution_count": 7,
   "id": "f422566e",
   "metadata": {},
   "outputs": [
    {
     "name": "stdout",
     "output_type": "stream",
     "text": [
      "16.0\n",
      "6.0\n",
      "2\n"
     ]
    }
   ],
   "source": [
    "#finding the mean,median and mode for the array data\n",
    "import numpy as np\n",
    "from scipy import stats\n",
    "\n",
    "data = np.array([2,3,4,5,6,7,8,9,100])\n",
    "dt_mean = np.mean(data)\n",
    "dt_median = np.median(data)\n",
    "dt_mode = stats.mode(data)\n",
    "print(dt_mean)\n",
    "print(dt_median)\n",
    "print(dt_mode[0][0])"
   ]
  },
  {
   "cell_type": "code",
   "execution_count": 8,
   "id": "a76c1787",
   "metadata": {},
   "outputs": [
    {
     "name": "stdout",
     "output_type": "stream",
     "text": [
      "849\n"
     ]
    }
   ],
   "source": [
    "from statistics import variance,stdev\n",
    "game_points = np.array([24,2,5,25,34,64,56,78,90,42,67])\n",
    "#calculating variance\n",
    "dt_var = variance(game_points)\n",
    "print(dt_var)"
   ]
  },
  {
   "cell_type": "code",
   "execution_count": 9,
   "id": "ea1cd9e5",
   "metadata": {},
   "outputs": [
    {
     "name": "stdout",
     "output_type": "stream",
     "text": [
      "29.13760456866693\n"
     ]
    }
   ],
   "source": [
    "#calculating standard deviation\n",
    "dt_stdev = stdev(game_points)\n",
    "print(dt_stdev)"
   ]
  },
  {
   "cell_type": "code",
   "execution_count": 10,
   "id": "baad12db",
   "metadata": {},
   "outputs": [
    {
     "name": "stdout",
     "output_type": "stream",
     "text": [
      "88\n"
     ]
    }
   ],
   "source": [
    "#calculating range\n",
    "dt_rnge = np.max(game_points) - np.min(game_points)\n",
    "print(dt_rnge)"
   ]
  },
  {
   "cell_type": "code",
   "execution_count": 13,
   "id": "e36a1402",
   "metadata": {},
   "outputs": [
    {
     "name": "stdout",
     "output_type": "stream",
     "text": [
      "quantiles\n",
      "20 % : 24.0\n",
      "60 % : 56.0\n",
      "80 % : 67.0\n"
     ]
    }
   ],
   "source": [
    "print(\"quantiles\")\n",
    "for i in [20,60,80]:\n",
    "    dt_qntls = np.percentile(game_points,i)\n",
    "    print(i,\"% :\",dt_qntls)"
   ]
  },
  {
   "cell_type": "code",
   "execution_count": 16,
   "id": "834d96a3",
   "metadata": {},
   "outputs": [
    {
     "name": "stdout",
     "output_type": "stream",
     "text": [
      "24.5 65.5 41.0\n"
     ]
    }
   ],
   "source": [
    "Q1 = np.percentile(game_points,25)\n",
    "Q3 = np.percentile(game_points,75)\n",
    "IQR = Q3 - Q1\n",
    "print(Q1,Q3,IQR)"
   ]
  },
  {
   "cell_type": "markdown",
   "id": "0910e015",
   "metadata": {},
   "source": [
    "# Example of hypothesis testing:\n",
    "A chocolate manufacturer who is also your friend claims that all chocolates produced from his factory weigh at least 1,000 g and you have got a funny feeling that it might not be true; you both collected a sample of 30 chocolates and found that the average chocolate weight as 990 g with sample standard deviation as 12.5 g. Given the 0.05 significance level, can we reject the claim made by your friend?\n",
    "\n",
    "The null hypothesis is that µ0 ≥ 1000 (all chocolates weigh more than 1,000 g).\n"
   ]
  },
  {
   "cell_type": "code",
   "execution_count": 19,
   "id": "a7fd87d2",
   "metadata": {},
   "outputs": [
    {
     "name": "stdout",
     "output_type": "stream",
     "text": [
      "test statistic :  -4.381780460041329\n"
     ]
    }
   ],
   "source": [
    "# we are solving this problem by finding out the test statistic and comparing it with critical t-value\n",
    "from scipy import stats\n",
    "xbar = 990; mu0 = 1000; s = 12.5; n=30\n",
    "#xbar is avg weight of chocolate in n sample i.e 30\n",
    "#mu0 is assumption made by the person that weigh is greater than 1000\n",
    "#s is the standard deviation of the data\n",
    "#n is the size of the data\n",
    "t_sample = (xbar-mu0)/(s/np.sqrt(n))\n",
    "print(\"test statistic : \",t_sample)"
   ]
  },
  {
   "cell_type": "code",
   "execution_count": 22,
   "id": "84b1805a",
   "metadata": {},
   "outputs": [
    {
     "name": "stdout",
     "output_type": "stream",
     "text": [
      "critical value from t-table:  -1.6991270265334977\n"
     ]
    }
   ],
   "source": [
    "alpha = 0.05\n",
    "#alpha is the significance level of the hyphothesis\n",
    "#using that alpha value we are trying to find out the t-critical value \n",
    "t_alpha = stats.t.ppf(alpha,n-1)\n",
    "print(\"critical value from t-table: \",t_alpha)"
   ]
  },
  {
   "cell_type": "code",
   "execution_count": 23,
   "id": "15b5fe43",
   "metadata": {},
   "outputs": [
    {
     "name": "stdout",
     "output_type": "stream",
     "text": [
      "7.035025729010886e-05\n"
     ]
    }
   ],
   "source": [
    "#now we are trying to find out the minium p_val to compare with t-critical \n",
    "p_val = stats.t.sf(np.abs(t_sample),n-1)\n",
    "print(p_val)"
   ]
  },
  {
   "cell_type": "markdown",
   "id": "f54faaad",
   "metadata": {},
   "source": [
    "# Final hypothesis: Test statistic is -4.3818, which is less than the critical value of -1.699. Hence, we can reject the null hypothesis (your friend's claim) that the mean weight of a chocolate is above 1,000 g."
   ]
  },
  {
   "cell_type": "markdown",
   "id": "7cad3b0b",
   "metadata": {},
   "source": [
    "# 2nd Example: Assume that the test scores of an entrance exam fit a normal distribution. Furthermore, the mean test score is 52 and the standard deviation is 16.3. What is the percentage of students scoring 67 or more in the exam?"
   ]
  },
  {
   "cell_type": "code",
   "execution_count": 25,
   "id": "a82bcdf8",
   "metadata": {},
   "outputs": [
    {
     "name": "stdout",
     "output_type": "stream",
     "text": [
      "Prob. to score more than 67 is 17.87 %\n"
     ]
    }
   ],
   "source": [
    "from scipy import stats\n",
    "xbar = 67; mu0 = 52; s = 16.3\n",
    "# Calculating z-score\n",
    "z = (67-52)/16.3\n",
    "# Calculating probability under the curve\n",
    "p_val = 1- stats.norm.cdf(z)\n",
    "print (\"Prob. to score more than 67 is\",round(p_val*100,2),\"%\")\n"
   ]
  },
  {
   "cell_type": "code",
   "execution_count": 2,
   "id": "690617d5",
   "metadata": {},
   "outputs": [
    {
     "data": {
      "text/html": [
       "<div>\n",
       "<style scoped>\n",
       "    .dataframe tbody tr th:only-of-type {\n",
       "        vertical-align: middle;\n",
       "    }\n",
       "\n",
       "    .dataframe tbody tr th {\n",
       "        vertical-align: top;\n",
       "    }\n",
       "\n",
       "    .dataframe thead th {\n",
       "        text-align: right;\n",
       "    }\n",
       "</style>\n",
       "<table border=\"1\" class=\"dataframe\">\n",
       "  <thead>\n",
       "    <tr style=\"text-align: right;\">\n",
       "      <th></th>\n",
       "      <th>Sex</th>\n",
       "      <th>Wr.Hnd</th>\n",
       "      <th>NW.Hnd</th>\n",
       "      <th>W.Hnd</th>\n",
       "      <th>Fold</th>\n",
       "      <th>Pulse</th>\n",
       "      <th>Clap</th>\n",
       "      <th>Exer</th>\n",
       "      <th>Smoke</th>\n",
       "      <th>Height</th>\n",
       "      <th>M.I</th>\n",
       "      <th>Age</th>\n",
       "    </tr>\n",
       "  </thead>\n",
       "  <tbody>\n",
       "    <tr>\n",
       "      <th>0</th>\n",
       "      <td>Female</td>\n",
       "      <td>18.5</td>\n",
       "      <td>18.0</td>\n",
       "      <td>Right</td>\n",
       "      <td>R on L</td>\n",
       "      <td>92.0</td>\n",
       "      <td>Left</td>\n",
       "      <td>Some</td>\n",
       "      <td>Never</td>\n",
       "      <td>173.0</td>\n",
       "      <td>Metric</td>\n",
       "      <td>18.250</td>\n",
       "    </tr>\n",
       "    <tr>\n",
       "      <th>1</th>\n",
       "      <td>Male</td>\n",
       "      <td>19.5</td>\n",
       "      <td>20.5</td>\n",
       "      <td>Left</td>\n",
       "      <td>R on L</td>\n",
       "      <td>104.0</td>\n",
       "      <td>Left</td>\n",
       "      <td>None</td>\n",
       "      <td>Regul</td>\n",
       "      <td>177.8</td>\n",
       "      <td>Imperial</td>\n",
       "      <td>17.583</td>\n",
       "    </tr>\n",
       "    <tr>\n",
       "      <th>2</th>\n",
       "      <td>Male</td>\n",
       "      <td>18.0</td>\n",
       "      <td>13.3</td>\n",
       "      <td>Right</td>\n",
       "      <td>L on R</td>\n",
       "      <td>87.0</td>\n",
       "      <td>Neither</td>\n",
       "      <td>None</td>\n",
       "      <td>Occas</td>\n",
       "      <td>NaN</td>\n",
       "      <td>NaN</td>\n",
       "      <td>16.917</td>\n",
       "    </tr>\n",
       "    <tr>\n",
       "      <th>3</th>\n",
       "      <td>Male</td>\n",
       "      <td>18.8</td>\n",
       "      <td>18.9</td>\n",
       "      <td>Right</td>\n",
       "      <td>R on L</td>\n",
       "      <td>NaN</td>\n",
       "      <td>Neither</td>\n",
       "      <td>None</td>\n",
       "      <td>Never</td>\n",
       "      <td>160.0</td>\n",
       "      <td>Metric</td>\n",
       "      <td>20.333</td>\n",
       "    </tr>\n",
       "    <tr>\n",
       "      <th>4</th>\n",
       "      <td>Male</td>\n",
       "      <td>20.0</td>\n",
       "      <td>20.0</td>\n",
       "      <td>Right</td>\n",
       "      <td>Neither</td>\n",
       "      <td>35.0</td>\n",
       "      <td>Right</td>\n",
       "      <td>Some</td>\n",
       "      <td>Never</td>\n",
       "      <td>165.0</td>\n",
       "      <td>Metric</td>\n",
       "      <td>23.667</td>\n",
       "    </tr>\n",
       "  </tbody>\n",
       "</table>\n",
       "</div>"
      ],
      "text/plain": [
       "      Sex  Wr.Hnd  NW.Hnd  W.Hnd     Fold  Pulse     Clap  Exer  Smoke  \\\n",
       "0  Female    18.5    18.0  Right   R on L   92.0     Left  Some  Never   \n",
       "1    Male    19.5    20.5   Left   R on L  104.0     Left  None  Regul   \n",
       "2    Male    18.0    13.3  Right   L on R   87.0  Neither  None  Occas   \n",
       "3    Male    18.8    18.9  Right   R on L    NaN  Neither  None  Never   \n",
       "4    Male    20.0    20.0  Right  Neither   35.0    Right  Some  Never   \n",
       "\n",
       "   Height       M.I     Age  \n",
       "0   173.0    Metric  18.250  \n",
       "1   177.8  Imperial  17.583  \n",
       "2     NaN       NaN  16.917  \n",
       "3   160.0    Metric  20.333  \n",
       "4   165.0    Metric  23.667  "
      ]
     },
     "execution_count": 2,
     "metadata": {},
     "output_type": "execute_result"
    }
   ],
   "source": [
    "import pandas as pd\n",
    "from scipy import stats\n",
    "\n",
    "survey = pd.read_csv(\"survey.csv\")\n",
    "survey.head()"
   ]
  },
  {
   "cell_type": "code",
   "execution_count": 4,
   "id": "b9e9f43c",
   "metadata": {},
   "outputs": [],
   "source": [
    "survey_tab = pd.crosstab(survey.Smoke,survey.Exer,margins = True)\n",
    "observed = survey_tab.iloc[0:4,0:3]"
   ]
  },
  {
   "cell_type": "code",
   "execution_count": 6,
   "id": "966eb214",
   "metadata": {},
   "outputs": [
    {
     "data": {
      "text/html": [
       "<div>\n",
       "<style scoped>\n",
       "    .dataframe tbody tr th:only-of-type {\n",
       "        vertical-align: middle;\n",
       "    }\n",
       "\n",
       "    .dataframe tbody tr th {\n",
       "        vertical-align: top;\n",
       "    }\n",
       "\n",
       "    .dataframe thead th {\n",
       "        text-align: right;\n",
       "    }\n",
       "</style>\n",
       "<table border=\"1\" class=\"dataframe\">\n",
       "  <thead>\n",
       "    <tr style=\"text-align: right;\">\n",
       "      <th>Exer</th>\n",
       "      <th>Freq</th>\n",
       "      <th>None</th>\n",
       "      <th>Some</th>\n",
       "    </tr>\n",
       "    <tr>\n",
       "      <th>Smoke</th>\n",
       "      <th></th>\n",
       "      <th></th>\n",
       "      <th></th>\n",
       "    </tr>\n",
       "  </thead>\n",
       "  <tbody>\n",
       "    <tr>\n",
       "      <th>Heavy</th>\n",
       "      <td>7</td>\n",
       "      <td>1</td>\n",
       "      <td>3</td>\n",
       "    </tr>\n",
       "    <tr>\n",
       "      <th>Never</th>\n",
       "      <td>87</td>\n",
       "      <td>18</td>\n",
       "      <td>84</td>\n",
       "    </tr>\n",
       "    <tr>\n",
       "      <th>Occas</th>\n",
       "      <td>12</td>\n",
       "      <td>3</td>\n",
       "      <td>4</td>\n",
       "    </tr>\n",
       "    <tr>\n",
       "      <th>Regul</th>\n",
       "      <td>9</td>\n",
       "      <td>1</td>\n",
       "      <td>7</td>\n",
       "    </tr>\n",
       "  </tbody>\n",
       "</table>\n",
       "</div>"
      ],
      "text/plain": [
       "Exer   Freq  None  Some\n",
       "Smoke                  \n",
       "Heavy     7     1     3\n",
       "Never    87    18    84\n",
       "Occas    12     3     4\n",
       "Regul     9     1     7"
      ]
     },
     "execution_count": 6,
     "metadata": {},
     "output_type": "execute_result"
    }
   ],
   "source": [
    "#we have created a table for smokers\n",
    "observed"
   ]
  },
  {
   "cell_type": "code",
   "execution_count": 5,
   "id": "943863d1",
   "metadata": {},
   "outputs": [
    {
     "name": "stdout",
     "output_type": "stream",
     "text": [
      "P-value is:  0.483\n"
     ]
    }
   ],
   "source": [
    "contg = stats.chi2_contingency(observed= observed)\n",
    "p_value = round(contg[1],3)\n",
    "print (\"P-value is: \",p_value)"
   ]
  },
  {
   "cell_type": "code",
   "execution_count": null,
   "id": "69c6077c",
   "metadata": {},
   "outputs": [],
   "source": []
  }
 ],
 "metadata": {
  "kernelspec": {
   "display_name": "Python 3 (ipykernel)",
   "language": "python",
   "name": "python3"
  },
  "language_info": {
   "codemirror_mode": {
    "name": "ipython",
    "version": 3
   },
   "file_extension": ".py",
   "mimetype": "text/x-python",
   "name": "python",
   "nbconvert_exporter": "python",
   "pygments_lexer": "ipython3",
   "version": "3.9.12"
  }
 },
 "nbformat": 4,
 "nbformat_minor": 5
}
